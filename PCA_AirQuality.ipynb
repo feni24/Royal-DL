{
  "nbformat": 4,
  "nbformat_minor": 0,
  "metadata": {
    "colab": {
      "name": "PCA-AirQuality.ipynb",
      "provenance": [],
      "collapsed_sections": [],
      "authorship_tag": "ABX9TyMUr8gZOvxt+ufWyvIhPIFT"
    },
    "kernelspec": {
      "name": "python3",
      "display_name": "Python 3"
    },
    "accelerator": "GPU"
  },
  "cells": [
    {
      "cell_type": "code",
      "metadata": {
        "id": "qeQ3nncJY-CE",
        "colab_type": "code",
        "colab": {}
      },
      "source": [
        "import numpy as np\n",
        "import pandas as pd\n",
        "from sklearn import datasets\n",
        "from sklearn.model_selection import train_test_split\n",
        "import os\n",
        "import matplotlib.pyplot as plt"
      ],
      "execution_count": 66,
      "outputs": []
    },
    {
      "cell_type": "code",
      "metadata": {
        "id": "RULA0YsW7Qmy",
        "colab_type": "code",
        "colab": {}
      },
      "source": [
        "aq_data = pd.read_csv('/content/AirQualityUCI.csv', sep=\";\", decimal=',')\n"
      ],
      "execution_count": 67,
      "outputs": []
    },
    {
      "cell_type": "code",
      "metadata": {
        "id": "3GqSSG_zBPwK",
        "colab_type": "code",
        "colab": {}
      },
      "source": [
        "# As dataset contains NaN values. We will drop it.\n",
        "\n",
        "# Deleting rows which have missing values\n",
        "aq_data.dropna(axis=0, how= 'all', inplace=True) \n",
        "# Deleting column 15 and 16 : unnamed and NaN\n",
        "aq_data.dropna(axis=1, inplace=True)\n"
      ],
      "execution_count": 69,
      "outputs": []
    },
    {
      "cell_type": "code",
      "metadata": {
        "id": "k1NB5g3GETvC",
        "colab_type": "code",
        "colab": {}
      },
      "source": [
        "#Dataset description mentions \"Missing values are tagged with -200 value.\"\n",
        "\n",
        "aq_data.replace(to_replace= -200, value= np.NaN, inplace= True)"
      ],
      "execution_count": 70,
      "outputs": []
    },
    {
      "cell_type": "code",
      "metadata": {
        "id": "aXa6gxFf4hup",
        "colab_type": "code",
        "colab": {}
      },
      "source": [
        "aq_data['CO(GT)']= aq_data['CO(GT)'].fillna(aq_data['CO(GT)'].mean())\n",
        "aq_data['PT08.S1(CO)']= aq_data['PT08.S1(CO)'].fillna(aq_data['PT08.S1(CO)'].mean())\n",
        "aq_data['NMHC(GT)']= aq_data['NMHC(GT)'].fillna(aq_data['NMHC(GT)'].mean())\n",
        "aq_data['C6H6(GT)']= aq_data['C6H6(GT)'].fillna(aq_data['C6H6(GT)'].mean())\n",
        "aq_data['PT08.S2(NMHC)']= aq_data['PT08.S2(NMHC)'].fillna(aq_data['PT08.S2(NMHC)'].mean())\n",
        "aq_data['NOx(GT)']= aq_data['NOx(GT)'].fillna(aq_data['NOx(GT)'].mean())\n",
        "aq_data['PT08.S3(NOx)']= aq_data['PT08.S3(NOx)'].fillna(aq_data['PT08.S3(NOx)'].mean())\n",
        "aq_data['NO2(GT)']= aq_data['NO2(GT)'].fillna(aq_data['NO2(GT)'].mean())\n",
        "aq_data['PT08.S4(NO2)']= aq_data['PT08.S4(NO2)'].fillna(aq_data['PT08.S4(NO2)'].mean())\n",
        "aq_data['PT08.S5(O3)']= aq_data['PT08.S5(O3)'].fillna(aq_data['PT08.S5(O3)'].mean())\n",
        "aq_data['T']= aq_data['T'].fillna(aq_data['T'].mean())\n",
        "aq_data['RH']= aq_data['RH'].fillna(aq_data['RH'].mean())\n",
        "aq_data['AH']= aq_data['AH'].fillna(aq_data['AH'].mean())"
      ],
      "execution_count": 71,
      "outputs": []
    },
    {
      "cell_type": "code",
      "metadata": {
        "id": "1GJcssRyIP0p",
        "colab_type": "code",
        "colab": {}
      },
      "source": [
        "#We can see that 5th column is full of null values. So we will drop that column as these values will not be of much importance.\n",
        "aq_data.drop(['NMHC(GT)'], axis= 1, inplace= True)"
      ],
      "execution_count": 72,
      "outputs": []
    },
    {
      "cell_type": "code",
      "metadata": {
        "id": "yW24srI5s9_Y",
        "colab_type": "code",
        "colab": {}
      },
      "source": [
        "x = aq_data.drop(['T','RH','AH'], axis=1)\n",
        "y = aq_data[['T','RH','AH']]\n"
      ],
      "execution_count": 73,
      "outputs": []
    },
    {
      "cell_type": "code",
      "metadata": {
        "id": "JZLK_aTMEnJ5",
        "colab_type": "code",
        "colab": {}
      },
      "source": [
        "x['Date'] = pd.to_datetime(x['Date'].astype(str), format='%d/%m/%Y')\n",
        "x['Time'] = pd.to_datetime(x['Time'].astype(str), format='%H.%M.%S')\n",
        "x.Date = pd.to_numeric(x.Date, errors='coerce')\n",
        "x.Time = pd.to_numeric(x.Time, errors='coerce')"
      ],
      "execution_count": 75,
      "outputs": []
    },
    {
      "cell_type": "code",
      "metadata": {
        "id": "50MP6syovcs4",
        "colab_type": "code",
        "colab": {}
      },
      "source": [
        "from sklearn.preprocessing import MinMaxScaler\n",
        "scaler = MinMaxScaler()\n",
        "x = scaler.fit_transform(x)"
      ],
      "execution_count": 76,
      "outputs": []
    },
    {
      "cell_type": "code",
      "metadata": {
        "id": "mXdS0WjLyJc5",
        "colab_type": "code",
        "colab": {}
      },
      "source": [
        "y = scaler.fit_transform(y)"
      ],
      "execution_count": 77,
      "outputs": []
    },
    {
      "cell_type": "code",
      "metadata": {
        "id": "omDvl0f1yDI0",
        "colab_type": "code",
        "colab": {}
      },
      "source": [
        "X_train, X_test, Y_train, Y_test = train_test_split(x,y,test_size=0.3,random_state=2)"
      ],
      "execution_count": 78,
      "outputs": []
    },
    {
      "cell_type": "code",
      "metadata": {
        "id": "BFzPKO5OyPJe",
        "colab_type": "code",
        "colab": {}
      },
      "source": [
        "from sklearn.decomposition import PCA\n",
        "pca = PCA(n_components=11)\n",
        "X_new = pca.fit_transform(x)"
      ],
      "execution_count": 135,
      "outputs": []
    },
    {
      "cell_type": "code",
      "metadata": {
        "id": "UqDANm2KATWE",
        "colab_type": "code",
        "colab": {}
      },
      "source": [
        "pca.get_covariance()"
      ],
      "execution_count": null,
      "outputs": []
    },
    {
      "cell_type": "code",
      "metadata": {
        "id": "sUO4vXIFAZAx",
        "colab_type": "code",
        "colab": {}
      },
      "source": [
        "explained_variance = pca.explained_variance_ratio_\n",
        "explained_variance"
      ],
      "execution_count": null,
      "outputs": []
    },
    {
      "cell_type": "code",
      "metadata": {
        "id": "6n72RvlDAata",
        "colab_type": "code",
        "colab": {}
      },
      "source": [
        "# How to plot multiple bar graph "
      ],
      "execution_count": 88,
      "outputs": []
    },
    {
      "cell_type": "code",
      "metadata": {
        "id": "42CF0Nb3HJJ_",
        "colab_type": "code",
        "colab": {}
      },
      "source": [
        "X_train_new, X_test_new, Y_train, Y_test = train_test_split(X_new, y, test_size=0.3, random_state=2)"
      ],
      "execution_count": 138,
      "outputs": []
    },
    {
      "cell_type": "code",
      "metadata": {
        "id": "BeYHWDvhIImr",
        "colab_type": "code",
        "colab": {
          "base_uri": "https://localhost:8080/",
          "height": 34
        },
        "outputId": "e5a78331-a820-4e4c-cfb6-c0710b899b4e"
      },
      "source": [
        "X_train_new.shape"
      ],
      "execution_count": 139,
      "outputs": [
        {
          "output_type": "execute_result",
          "data": {
            "text/plain": [
              "(6549, 11)"
            ]
          },
          "metadata": {
            "tags": []
          },
          "execution_count": 139
        }
      ]
    },
    {
      "cell_type": "code",
      "metadata": {
        "id": "MaaefvNiHojN",
        "colab_type": "code",
        "colab": {
          "base_uri": "https://localhost:8080/",
          "height": 263
        },
        "outputId": "458afeba-ab09-4af2-8406-44938c83897a"
      },
      "source": [
        "from keras.models import Sequential\n",
        "from keras.layers import Dense\n",
        "from keras.optimizers import Adam\n",
        "\n",
        "model = Sequential()\n",
        "\n",
        "model.add(Dense(20, input_shape=(None,11),activation='relu'))\n",
        "model.add(Dense(10, activation='relu'))\n",
        "model.add(Dense(3))\n",
        "\n",
        "\n",
        "model.compile(Adam(lr=0.1),loss='mean_squared_error',metrics=['accuracy'])\n",
        "\n",
        "model.summary()"
      ],
      "execution_count": 140,
      "outputs": [
        {
          "output_type": "stream",
          "text": [
            "Model: \"sequential_11\"\n",
            "_________________________________________________________________\n",
            "Layer (type)                 Output Shape              Param #   \n",
            "=================================================================\n",
            "dense_33 (Dense)             (None, None, 20)          240       \n",
            "_________________________________________________________________\n",
            "dense_34 (Dense)             (None, None, 10)          210       \n",
            "_________________________________________________________________\n",
            "dense_35 (Dense)             (None, None, 3)           33        \n",
            "=================================================================\n",
            "Total params: 483\n",
            "Trainable params: 483\n",
            "Non-trainable params: 0\n",
            "_________________________________________________________________\n"
          ],
          "name": "stdout"
        }
      ]
    },
    {
      "cell_type": "code",
      "metadata": {
        "id": "EGq2qmwAH4mW",
        "colab_type": "code",
        "colab": {
          "base_uri": "https://localhost:8080/",
          "height": 442
        },
        "outputId": "ca068127-238f-4edd-a3ce-9c9988a93c5c"
      },
      "source": [
        "model.fit(X_train_new,Y_train, epochs=10)"
      ],
      "execution_count": 141,
      "outputs": [
        {
          "output_type": "stream",
          "text": [
            "Epoch 1/10\n",
            "WARNING:tensorflow:Model was constructed with shape (None, None, 11) for input Tensor(\"dense_33_input:0\", shape=(None, None, 11), dtype=float32), but it was called on an input with incompatible shape (None, 11).\n",
            "WARNING:tensorflow:Model was constructed with shape (None, None, 11) for input Tensor(\"dense_33_input:0\", shape=(None, None, 11), dtype=float32), but it was called on an input with incompatible shape (None, 11).\n",
            "205/205 [==============================] - 0s 2ms/step - loss: 0.0182 - accuracy: 0.7229\n",
            "Epoch 2/10\n",
            "205/205 [==============================] - 0s 2ms/step - loss: 0.0112 - accuracy: 0.7821\n",
            "Epoch 3/10\n",
            "205/205 [==============================] - 0s 2ms/step - loss: 0.0106 - accuracy: 0.7945\n",
            "Epoch 4/10\n",
            "205/205 [==============================] - 0s 2ms/step - loss: 0.0104 - accuracy: 0.8012\n",
            "Epoch 5/10\n",
            "205/205 [==============================] - 0s 2ms/step - loss: 0.0096 - accuracy: 0.8071\n",
            "Epoch 6/10\n",
            "205/205 [==============================] - 0s 2ms/step - loss: 0.0099 - accuracy: 0.8052\n",
            "Epoch 7/10\n",
            "205/205 [==============================] - 0s 2ms/step - loss: 0.0103 - accuracy: 0.8042\n",
            "Epoch 8/10\n",
            "205/205 [==============================] - 0s 2ms/step - loss: 0.0093 - accuracy: 0.8145\n",
            "Epoch 9/10\n",
            "205/205 [==============================] - 0s 2ms/step - loss: 0.0096 - accuracy: 0.8070\n",
            "Epoch 10/10\n",
            "205/205 [==============================] - 0s 2ms/step - loss: 0.0107 - accuracy: 0.8000\n"
          ],
          "name": "stdout"
        },
        {
          "output_type": "execute_result",
          "data": {
            "text/plain": [
              "<tensorflow.python.keras.callbacks.History at 0x7ff5ba9e86a0>"
            ]
          },
          "metadata": {
            "tags": []
          },
          "execution_count": 141
        }
      ]
    },
    {
      "cell_type": "markdown",
      "metadata": {
        "id": "ssbF35_PLPJY",
        "colab_type": "text"
      },
      "source": [
        "**Training Accuracy**\n",
        "\n",
        "\n",
        "\n",
        "\n",
        "* 11 Components: 80%\n",
        "* 10 Components: 78% \n",
        "* 6 Components: 74%\n",
        "* 4 Components: 73%\n",
        "* 2 Components: 69%\n",
        "\n",
        "\n",
        "\n",
        "\n",
        "\n",
        "\n"
      ]
    }
  ]
}